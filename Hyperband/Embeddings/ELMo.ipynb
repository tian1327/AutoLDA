{
 "cells": [
  {
   "cell_type": "code",
   "execution_count": 1,
   "id": "f1a4b69c-1808-4590-a327-efe3fa71a2fe",
   "metadata": {},
   "outputs": [],
   "source": [
    "import os"
   ]
  },
  {
   "cell_type": "code",
   "execution_count": 2,
   "id": "11798cc4-90cd-487a-a337-ab2fc826c546",
   "metadata": {},
   "outputs": [
    {
     "name": "stderr",
     "output_type": "stream",
     "text": [
      "[nltk_data] Downloading package stopwords to /home/ubuntu/nltk_data...\n",
      "[nltk_data]   Package stopwords is already up-to-date!\n",
      "[nltk_data] Downloading package punkt to /home/ubuntu/nltk_data...\n",
      "[nltk_data]   Package punkt is already up-to-date!\n"
     ]
    },
    {
     "data": {
      "text/plain": [
       "True"
      ]
     },
     "execution_count": 2,
     "metadata": {},
     "output_type": "execute_result"
    }
   ],
   "source": [
    "import nltk\n",
    "nltk.download('stopwords')\n",
    "nltk.download('punkt')"
   ]
  },
  {
   "cell_type": "code",
   "execution_count": 3,
   "id": "e32df752-7f24-40ff-b5ed-b98200af4eef",
   "metadata": {},
   "outputs": [],
   "source": [
    "allfiles = []\n",
    "for root, dirs, files in os.walk(\"/home/ubuntu/AutoLDA/Code/Transcripts/\", topdown=False):\n",
    "    for name in files:\n",
    "        if name.endswith(\".txt\") and \"checkpoint\" not in name:\n",
    "            allfiles.append(os.path.join(root, name))"
   ]
  },
  {
   "cell_type": "code",
   "execution_count": 4,
   "id": "ca327383-9db9-41c5-bc04-935fdd638e0f",
   "metadata": {},
   "outputs": [
    {
     "data": {
      "text/plain": [
       "555"
      ]
     },
     "execution_count": 4,
     "metadata": {},
     "output_type": "execute_result"
    }
   ],
   "source": [
    "len(allfiles)"
   ]
  },
  {
   "cell_type": "code",
   "execution_count": 5,
   "id": "f1dff560-390b-4db7-8dd7-f703c48b0aa6",
   "metadata": {},
   "outputs": [],
   "source": [
    "def getAllText(allfiles):\n",
    "    res = []\n",
    "    for file in allfiles:\n",
    "        with open(file,\"r\") as f:\n",
    "            res.append(f.read())\n",
    "    return \" \".join(res)\n",
    "            "
   ]
  },
  {
   "cell_type": "code",
   "execution_count": 6,
   "id": "1991bfd8-be75-4c13-8c9f-f8fe7a1854b9",
   "metadata": {},
   "outputs": [],
   "source": [
    "allText = getAllText(allfiles)"
   ]
  },
  {
   "cell_type": "code",
   "execution_count": 7,
   "id": "ea0e0aaf-8ba2-4b58-b833-d0f1aa4b28ba",
   "metadata": {},
   "outputs": [
    {
     "data": {
      "text/plain": [
       "5081360"
      ]
     },
     "execution_count": 7,
     "metadata": {},
     "output_type": "execute_result"
    }
   ],
   "source": [
    "len(allText)"
   ]
  },
  {
   "cell_type": "code",
   "execution_count": 8,
   "id": "227a46fa-6c7f-4140-8ad7-dee84b2955ee",
   "metadata": {},
   "outputs": [
    {
     "data": {
      "text/plain": [
       "'  hey you guys welco'"
      ]
     },
     "execution_count": 8,
     "metadata": {},
     "output_type": "execute_result"
    }
   ],
   "source": [
    "allText[:20]"
   ]
  },
  {
   "cell_type": "code",
   "execution_count": 9,
   "id": "7d8d220c-e2ac-46ee-91f5-88fb7af733df",
   "metadata": {},
   "outputs": [],
   "source": [
    "processedText = allText.split()"
   ]
  },
  {
   "cell_type": "code",
   "execution_count": 10,
   "id": "94fb6b6e-a6c0-4696-a032-87ce1adbfdde",
   "metadata": {},
   "outputs": [
    {
     "data": {
      "text/plain": [
       "['hey', 'you', 'guys', 'welcome', 'back', 'to', 'my', 'channel', 'is', 'your']"
      ]
     },
     "execution_count": 10,
     "metadata": {},
     "output_type": "execute_result"
    }
   ],
   "source": [
    "processedText[:10]"
   ]
  },
  {
   "cell_type": "code",
   "execution_count": 11,
   "id": "05e26829-2f86-4b98-8999-050dadc510d6",
   "metadata": {},
   "outputs": [],
   "source": [
    "import tensorflow_hub as hub\n",
    "# import tensorflow as tf"
   ]
  },
  {
   "cell_type": "code",
   "execution_count": 12,
   "id": "c30658d3-f205-4681-a2ab-9f9f2d08c838",
   "metadata": {},
   "outputs": [],
   "source": [
    "import tensorflow.compat.v1 as tf"
   ]
  },
  {
   "cell_type": "code",
   "execution_count": 13,
   "id": "09444364-4ef7-40b9-9b17-8b980b25608e",
   "metadata": {},
   "outputs": [],
   "source": [
    "tf.disable_eager_execution()"
   ]
  },
  {
   "cell_type": "code",
   "execution_count": 14,
   "id": "0a0ab295-5ab0-4cef-bd05-f9e48dc9056d",
   "metadata": {},
   "outputs": [],
   "source": [
    "elmo = hub.Module(\"https://tfhub.dev/google/elmo/2\", trainable=True)"
   ]
  },
  {
   "cell_type": "code",
   "execution_count": 25,
   "id": "9e8ad83c-738f-4230-b53c-5239972652b5",
   "metadata": {},
   "outputs": [
    {
     "name": "stdout",
     "output_type": "stream",
     "text": [
      "INFO:tensorflow:Saver not created because there are no variables in the graph to restore\n"
     ]
    },
    {
     "name": "stderr",
     "output_type": "stream",
     "text": [
      "INFO:tensorflow:Saver not created because there are no variables in the graph to restore\n"
     ]
    }
   ],
   "source": [
    "embeddings = elmo(\n",
    "    [\n",
    "        \"I love to watch TV\",\n",
    "        \"I am wearing a wrist watch\"\n",
    "    ],\n",
    "    signature=\"default\",\n",
    "    as_dict=True)[\"elmo\"]"
   ]
  },
  {
   "cell_type": "code",
   "execution_count": 26,
   "id": "d28570fb-5649-4b7e-a510-939d584c2a3a",
   "metadata": {},
   "outputs": [
    {
     "name": "stdout",
     "output_type": "stream",
     "text": [
      "WARNING:tensorflow:From /usr/local/lib/python3.6/dist-packages/tensorflow/python/util/tf_should_use.py:247: initialize_all_variables (from tensorflow.python.ops.variables) is deprecated and will be removed after 2017-03-02.\n",
      "Instructions for updating:\n",
      "Use `tf.global_variables_initializer` instead.\n"
     ]
    },
    {
     "name": "stderr",
     "output_type": "stream",
     "text": [
      "WARNING:tensorflow:From /usr/local/lib/python3.6/dist-packages/tensorflow/python/util/tf_should_use.py:247: initialize_all_variables (from tensorflow.python.ops.variables) is deprecated and will be removed after 2017-03-02.\n",
      "Instructions for updating:\n",
      "Use `tf.global_variables_initializer` instead.\n"
     ]
    }
   ],
   "source": [
    "init = tf.initialize_all_variables()\n",
    "sess = tf.Session()\n",
    "sess.run(init)"
   ]
  },
  {
   "cell_type": "code",
   "execution_count": 27,
   "id": "a6a1885d-f6a0-4aae-b2e3-cd2e29bd5403",
   "metadata": {},
   "outputs": [
    {
     "name": "stdout",
     "output_type": "stream",
     "text": [
      "Word embeddings for word WATCH in first sentence\n",
      "[ 0.1407963  -0.15788546 -0.00950471 ...  0.4300598  -0.52887076\n",
      "  0.063279  ]\n",
      "Word embeddings for word WATCH in second sentence\n",
      "[-0.08213342  0.01050345 -0.01454126 ...  0.487054   -0.5445794\n",
      "  0.5262399 ]\n"
     ]
    }
   ],
   "source": [
    "# Print word embeddings for word WATCH in given two sentences\n",
    "print('Word embeddings for word WATCH in first sentence')\n",
    "print(sess.run(embeddings[0][3]))\n",
    "print('Word embeddings for word WATCH in second sentence')\n",
    "print(sess.run(embeddings[1][5]))"
   ]
  },
  {
   "cell_type": "code",
   "execution_count": null,
   "id": "85761033-f7e5-4681-98f3-95bd21b58c8b",
   "metadata": {},
   "outputs": [],
   "source": []
  }
 ],
 "metadata": {
  "kernelspec": {
   "display_name": "Python 3",
   "language": "python",
   "name": "python3"
  },
  "language_info": {
   "codemirror_mode": {
    "name": "ipython",
    "version": 3
   },
   "file_extension": ".py",
   "mimetype": "text/x-python",
   "name": "python",
   "nbconvert_exporter": "python",
   "pygments_lexer": "ipython3",
   "version": "3.6.9"
  }
 },
 "nbformat": 4,
 "nbformat_minor": 5
}
