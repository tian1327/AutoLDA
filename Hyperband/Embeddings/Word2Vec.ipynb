{
 "cells": [
  {
   "cell_type": "code",
   "execution_count": 1,
   "id": "f1a4b69c-1808-4590-a327-efe3fa71a2fe",
   "metadata": {},
   "outputs": [],
   "source": [
    "import os"
   ]
  },
  {
   "cell_type": "code",
   "execution_count": 2,
   "id": "11798cc4-90cd-487a-a337-ab2fc826c546",
   "metadata": {},
   "outputs": [
    {
     "name": "stderr",
     "output_type": "stream",
     "text": [
      "[nltk_data] Downloading package stopwords to /home/ubuntu/nltk_data...\n",
      "[nltk_data]   Package stopwords is already up-to-date!\n",
      "[nltk_data] Downloading package punkt to /home/ubuntu/nltk_data...\n",
      "[nltk_data]   Package punkt is already up-to-date!\n"
     ]
    },
    {
     "data": {
      "text/plain": [
       "True"
      ]
     },
     "execution_count": 2,
     "metadata": {},
     "output_type": "execute_result"
    }
   ],
   "source": [
    "import nltk\n",
    "nltk.download('stopwords')\n",
    "nltk.download('punkt')"
   ]
  },
  {
   "cell_type": "code",
   "execution_count": 3,
   "id": "e32df752-7f24-40ff-b5ed-b98200af4eef",
   "metadata": {},
   "outputs": [],
   "source": [
    "allfiles = []\n",
    "for root, dirs, files in os.walk(\"/home/ubuntu/AutoLDA/Code/Transcripts/\", topdown=False):\n",
    "    for name in files:\n",
    "        if name.endswith(\".txt\") and \"checkpoint\" not in name:\n",
    "            allfiles.append(os.path.join(root, name))"
   ]
  },
  {
   "cell_type": "code",
   "execution_count": 4,
   "id": "ca327383-9db9-41c5-bc04-935fdd638e0f",
   "metadata": {},
   "outputs": [
    {
     "data": {
      "text/plain": [
       "555"
      ]
     },
     "execution_count": 4,
     "metadata": {},
     "output_type": "execute_result"
    }
   ],
   "source": [
    "len(allfiles)"
   ]
  },
  {
   "cell_type": "code",
   "execution_count": 5,
   "id": "f1dff560-390b-4db7-8dd7-f703c48b0aa6",
   "metadata": {},
   "outputs": [],
   "source": [
    "def getAllText(allfiles):\n",
    "    res = []\n",
    "    for file in allfiles:\n",
    "        with open(file,\"r\") as f:\n",
    "            res.append(f.read())\n",
    "    return \" \".join(res)\n",
    "            "
   ]
  },
  {
   "cell_type": "code",
   "execution_count": 6,
   "id": "1991bfd8-be75-4c13-8c9f-f8fe7a1854b9",
   "metadata": {},
   "outputs": [],
   "source": [
    "allText = getAllText(allfiles)"
   ]
  },
  {
   "cell_type": "code",
   "execution_count": 7,
   "id": "ea0e0aaf-8ba2-4b58-b833-d0f1aa4b28ba",
   "metadata": {},
   "outputs": [
    {
     "data": {
      "text/plain": [
       "5081360"
      ]
     },
     "execution_count": 7,
     "metadata": {},
     "output_type": "execute_result"
    }
   ],
   "source": [
    "len(allText)"
   ]
  },
  {
   "cell_type": "code",
   "execution_count": 8,
   "id": "227a46fa-6c7f-4140-8ad7-dee84b2955ee",
   "metadata": {},
   "outputs": [
    {
     "data": {
      "text/plain": [
       "'  hey you guys welco'"
      ]
     },
     "execution_count": 8,
     "metadata": {},
     "output_type": "execute_result"
    }
   ],
   "source": [
    "allText[:20]"
   ]
  },
  {
   "cell_type": "code",
   "execution_count": 9,
   "id": "7d8d220c-e2ac-46ee-91f5-88fb7af733df",
   "metadata": {},
   "outputs": [],
   "source": [
    "processedText = allText.split()"
   ]
  },
  {
   "cell_type": "code",
   "execution_count": 10,
   "id": "94fb6b6e-a6c0-4696-a032-87ce1adbfdde",
   "metadata": {},
   "outputs": [
    {
     "data": {
      "text/plain": [
       "['hey', 'you', 'guys', 'welcome', 'back', 'to', 'my', 'channel', 'is', 'your']"
      ]
     },
     "execution_count": 10,
     "metadata": {},
     "output_type": "execute_result"
    }
   ],
   "source": [
    "processedText[:10]"
   ]
  },
  {
   "cell_type": "code",
   "execution_count": 11,
   "id": "6116b1f4-81e9-4ecd-9796-ede1060c39a3",
   "metadata": {},
   "outputs": [],
   "source": [
    "from gensim.test.utils import common_texts\n",
    "from gensim.models import Word2Vec"
   ]
  },
  {
   "cell_type": "code",
   "execution_count": 12,
   "id": "ff0a3b8e-3612-49ae-94aa-cd5150eac184",
   "metadata": {},
   "outputs": [],
   "source": [
    "# model = Word2Vec(sentences=processedText, vector_size=100, window=5, min_count=1, workers=4)"
   ]
  },
  {
   "cell_type": "code",
   "execution_count": 17,
   "id": "e4599374-af52-462b-ac5d-dbbb27968e74",
   "metadata": {},
   "outputs": [],
   "source": [
    "model = Word2Vec(sentences=common_texts, vector_size=100, window=5, min_count=1, workers=4)"
   ]
  },
  {
   "cell_type": "code",
   "execution_count": 13,
   "id": "d97a9ef2-acaf-4c59-946f-f03deb747365",
   "metadata": {},
   "outputs": [],
   "source": [
    "model.save(\"./Word2Vec/word2vec.model\")"
   ]
  },
  {
   "cell_type": "code",
   "execution_count": 14,
   "id": "90cbd3b0-cd4a-49ef-9715-a9cd017f2094",
   "metadata": {},
   "outputs": [],
   "source": [
    "model = Word2Vec.load(\"./Word2Vec/word2vec.model\")"
   ]
  },
  {
   "cell_type": "code",
   "execution_count": 15,
   "id": "64aafdae-7bc9-4803-b476-934f203c7cd3",
   "metadata": {},
   "outputs": [],
   "source": [
    "# model.train([[\"hello\", \"world\"]], total_examples=1, epochs=1)"
   ]
  },
  {
   "cell_type": "code",
   "execution_count": 20,
   "id": "52b139a3-1d1b-4680-8f73-10535fcbb5ae",
   "metadata": {},
   "outputs": [
    {
     "data": {
      "text/plain": [
       "array([-0.00515774, -0.00667028, -0.0077791 ,  0.00831315, -0.00198292,\n",
       "       -0.00685696, -0.0041556 ,  0.00514562, -0.00286997, -0.00375075,\n",
       "        0.0016219 , -0.0027771 , -0.00158482,  0.0010748 , -0.00297881,\n",
       "        0.00852176,  0.00391207, -0.00996176,  0.00626142, -0.00675622,\n",
       "        0.00076966,  0.00440552, -0.00510486, -0.00211128,  0.00809783,\n",
       "       -0.00424503, -0.00763848,  0.00926061, -0.00215612, -0.00472081,\n",
       "        0.00857329,  0.00428458,  0.0043261 ,  0.00928722, -0.00845554,\n",
       "        0.00525685,  0.00203994,  0.0041895 ,  0.00169839,  0.00446543,\n",
       "        0.00448759,  0.0061063 , -0.00320303, -0.00457706, -0.00042664,\n",
       "        0.00253447, -0.00326412,  0.00605948,  0.00415534,  0.00776685,\n",
       "        0.00257002,  0.00811904, -0.00138761,  0.00808028,  0.0037181 ,\n",
       "       -0.00804967, -0.00393476, -0.0024726 ,  0.00489447, -0.00087241,\n",
       "       -0.00283173,  0.00783599,  0.00932561, -0.0016154 , -0.00516075,\n",
       "       -0.00470313, -0.00484746, -0.00960562,  0.00137242, -0.00422615,\n",
       "        0.00252744,  0.00561612, -0.00406709, -0.00959937,  0.00154715,\n",
       "       -0.00670207,  0.0024959 , -0.00378173,  0.00708048,  0.00064041,\n",
       "        0.00356198, -0.00273993, -0.00171105,  0.00765502,  0.00140809,\n",
       "       -0.00585215, -0.00783678,  0.00123304,  0.00645651,  0.00555797,\n",
       "       -0.00897966,  0.00859466,  0.00404815,  0.00747178,  0.00974917,\n",
       "       -0.0072917 , -0.00904259,  0.0058377 ,  0.00939395,  0.00350795],\n",
       "      dtype=float32)"
      ]
     },
     "execution_count": 20,
     "metadata": {},
     "output_type": "execute_result"
    }
   ],
   "source": [
    "model.wv[\"computer\"]\n"
   ]
  },
  {
   "cell_type": "code",
   "execution_count": 22,
   "id": "af07f82a-6e96-4cb5-9f51-886a0206162f",
   "metadata": {},
   "outputs": [
    {
     "data": {
      "text/plain": [
       "[('system', 0.21617142856121063),\n",
       " ('survey', 0.044689204543828964),\n",
       " ('interface', 0.015203374437987804),\n",
       " ('time', 0.0019510634010657668),\n",
       " ('trees', -0.03284314647316933),\n",
       " ('human', -0.0742427185177803),\n",
       " ('response', -0.09317589551210403),\n",
       " ('graph', -0.09575346112251282),\n",
       " ('eps', -0.10513807088136673),\n",
       " ('user', -0.16911624372005463)]"
      ]
     },
     "execution_count": 22,
     "metadata": {},
     "output_type": "execute_result"
    }
   ],
   "source": [
    "sims = model.wv.most_similar('computer', topn=10)\n",
    "sims"
   ]
  },
  {
   "cell_type": "code",
   "execution_count": 23,
   "id": "21513bdc-e8cd-485e-ab60-ff47a42cf41a",
   "metadata": {},
   "outputs": [],
   "source": [
    "from gensim.models import KeyedVectors"
   ]
  },
  {
   "cell_type": "code",
   "execution_count": 25,
   "id": "8851418f-18bd-4534-abb2-bf9d2ef0ac62",
   "metadata": {},
   "outputs": [],
   "source": [
    "# Store just the words + their trained embeddings.\n",
    "word_vectors = model.wv\n",
    "word_vectors.save(\"./Word2Vec/word2vec.wordvectors\")"
   ]
  },
  {
   "cell_type": "code",
   "execution_count": 28,
   "id": "06b6beda-8897-459f-9298-b639609eaec6",
   "metadata": {},
   "outputs": [],
   "source": [
    "# Load back with memory-mapping = read-only, shared across processes.\n",
    "wv = KeyedVectors.load(\"./Word2Vec/word2vec.wordvectors\", mmap='r')"
   ]
  },
  {
   "cell_type": "code",
   "execution_count": 29,
   "id": "65056226-2b58-4528-8942-3834f541e8bf",
   "metadata": {},
   "outputs": [],
   "source": [
    "vector = wv['computer']  # Get numpy vector of a word"
   ]
  },
  {
   "cell_type": "code",
   "execution_count": 30,
   "id": "d3539356-2384-4ab3-a12c-276810ae67b5",
   "metadata": {},
   "outputs": [],
   "source": [
    "import gensim.downloader"
   ]
  },
  {
   "cell_type": "code",
   "execution_count": 31,
   "id": "b04c04d1-8648-4099-94e8-a7059910fa5e",
   "metadata": {},
   "outputs": [
    {
     "name": "stdout",
     "output_type": "stream",
     "text": [
      "['fasttext-wiki-news-subwords-300', 'conceptnet-numberbatch-17-06-300', 'word2vec-ruscorpora-300', 'word2vec-google-news-300', 'glove-wiki-gigaword-50', 'glove-wiki-gigaword-100', 'glove-wiki-gigaword-200', 'glove-wiki-gigaword-300', 'glove-twitter-25', 'glove-twitter-50', 'glove-twitter-100', 'glove-twitter-200', '__testing_word2vec-matrix-synopsis']\n"
     ]
    }
   ],
   "source": [
    "print(list(gensim.downloader.info()['models'].keys()))"
   ]
  },
  {
   "cell_type": "code",
   "execution_count": 32,
   "id": "02b1f3be-705d-46b8-84b2-0883140a3a4d",
   "metadata": {},
   "outputs": [
    {
     "name": "stdout",
     "output_type": "stream",
     "text": [
      "[===========---------------------------------------] 22.4% 23.4/104.8MB downloaded"
     ]
    },
    {
     "name": "stderr",
     "output_type": "stream",
     "text": [
      "IOPub message rate exceeded.\n",
      "The Jupyter server will temporarily stop sending output\n",
      "to the client in order to avoid crashing it.\n",
      "To change this limit, set the config variable\n",
      "`--ServerApp.iopub_msg_rate_limit`.\n",
      "\n",
      "Current values:\n",
      "ServerApp.iopub_msg_rate_limit=1000.0 (msgs/sec)\n",
      "ServerApp.rate_limit_window=3.0 (secs)\n",
      "\n"
     ]
    },
    {
     "name": "stdout",
     "output_type": "stream",
     "text": [
      "[============================----------------------] 56.3% 59.0/104.8MB downloaded"
     ]
    },
    {
     "name": "stderr",
     "output_type": "stream",
     "text": [
      "IOPub message rate exceeded.\n",
      "The Jupyter server will temporarily stop sending output\n",
      "to the client in order to avoid crashing it.\n",
      "To change this limit, set the config variable\n",
      "`--ServerApp.iopub_msg_rate_limit`.\n",
      "\n",
      "Current values:\n",
      "ServerApp.iopub_msg_rate_limit=1000.0 (msgs/sec)\n",
      "ServerApp.rate_limit_window=3.0 (secs)\n",
      "\n"
     ]
    },
    {
     "name": "stdout",
     "output_type": "stream",
     "text": [
      "[=============================================-----] 90.8% 95.1/104.8MB downloaded"
     ]
    },
    {
     "name": "stderr",
     "output_type": "stream",
     "text": [
      "IOPub message rate exceeded.\n",
      "The Jupyter server will temporarily stop sending output\n",
      "to the client in order to avoid crashing it.\n",
      "To change this limit, set the config variable\n",
      "`--ServerApp.iopub_msg_rate_limit`.\n",
      "\n",
      "Current values:\n",
      "ServerApp.iopub_msg_rate_limit=1000.0 (msgs/sec)\n",
      "ServerApp.rate_limit_window=3.0 (secs)\n",
      "\n"
     ]
    }
   ],
   "source": [
    "glove_vectors = gensim.downloader.load('glove-twitter-25')"
   ]
  },
  {
   "cell_type": "code",
   "execution_count": 33,
   "id": "63f9914f-7af6-41c0-a8c5-1a1778208c8a",
   "metadata": {},
   "outputs": [
    {
     "data": {
      "text/plain": [
       "[('facebook', 0.948005199432373),\n",
       " ('tweet', 0.9403423070907593),\n",
       " ('fb', 0.9342358708381653),\n",
       " ('instagram', 0.9104824066162109),\n",
       " ('chat', 0.8964964747428894),\n",
       " ('hashtag', 0.8885937333106995),\n",
       " ('tweets', 0.8878158330917358),\n",
       " ('tl', 0.8778461217880249),\n",
       " ('link', 0.8778210878372192),\n",
       " ('internet', 0.8753897547721863)]"
      ]
     },
     "execution_count": 33,
     "metadata": {},
     "output_type": "execute_result"
    }
   ],
   "source": [
    "glove_vectors.most_similar('twitter')"
   ]
  },
  {
   "cell_type": "code",
   "execution_count": null,
   "id": "05e26829-2f86-4b98-8999-050dadc510d6",
   "metadata": {},
   "outputs": [],
   "source": []
  }
 ],
 "metadata": {
  "kernelspec": {
   "display_name": "Python 3",
   "language": "python",
   "name": "python3"
  },
  "language_info": {
   "codemirror_mode": {
    "name": "ipython",
    "version": 3
   },
   "file_extension": ".py",
   "mimetype": "text/x-python",
   "name": "python",
   "nbconvert_exporter": "python",
   "pygments_lexer": "ipython3",
   "version": "3.6.9"
  }
 },
 "nbformat": 4,
 "nbformat_minor": 5
}
