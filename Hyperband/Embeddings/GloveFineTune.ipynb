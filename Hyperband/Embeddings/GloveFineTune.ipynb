{
 "cells": [
  {
   "cell_type": "code",
   "execution_count": 1,
   "id": "f1a4b69c-1808-4590-a327-efe3fa71a2fe",
   "metadata": {},
   "outputs": [],
   "source": [
    "import os"
   ]
  },
  {
   "cell_type": "code",
   "execution_count": 2,
   "id": "11798cc4-90cd-487a-a337-ab2fc826c546",
   "metadata": {},
   "outputs": [
    {
     "name": "stderr",
     "output_type": "stream",
     "text": [
      "[nltk_data] Downloading package stopwords to /home/ubuntu/nltk_data...\n",
      "[nltk_data]   Package stopwords is already up-to-date!\n",
      "[nltk_data] Downloading package punkt to /home/ubuntu/nltk_data...\n",
      "[nltk_data]   Package punkt is already up-to-date!\n"
     ]
    },
    {
     "data": {
      "text/plain": [
       "True"
      ]
     },
     "execution_count": 2,
     "metadata": {},
     "output_type": "execute_result"
    }
   ],
   "source": [
    "import nltk\n",
    "nltk.download('stopwords')\n",
    "nltk.download('punkt')"
   ]
  },
  {
   "cell_type": "code",
   "execution_count": 3,
   "id": "e32df752-7f24-40ff-b5ed-b98200af4eef",
   "metadata": {},
   "outputs": [],
   "source": [
    "allfiles = []\n",
    "for root, dirs, files in os.walk(\"/home/ubuntu/AutoLDA/Code/Transcripts/\", topdown=False):\n",
    "    for name in files:\n",
    "        if name.endswith(\".txt\") and \"checkpoint\" not in name:\n",
    "            allfiles.append(os.path.join(root, name))"
   ]
  },
  {
   "cell_type": "code",
   "execution_count": 4,
   "id": "ca327383-9db9-41c5-bc04-935fdd638e0f",
   "metadata": {},
   "outputs": [
    {
     "data": {
      "text/plain": [
       "555"
      ]
     },
     "execution_count": 4,
     "metadata": {},
     "output_type": "execute_result"
    }
   ],
   "source": [
    "len(allfiles)"
   ]
  },
  {
   "cell_type": "code",
   "execution_count": 5,
   "id": "f1dff560-390b-4db7-8dd7-f703c48b0aa6",
   "metadata": {},
   "outputs": [],
   "source": [
    "def getAllText(allfiles):\n",
    "    res = []\n",
    "    for file in allfiles:\n",
    "        with open(file,\"r\") as f:\n",
    "            res.append(f.read())\n",
    "    return \" \".join(res)\n",
    "            "
   ]
  },
  {
   "cell_type": "code",
   "execution_count": 6,
   "id": "1991bfd8-be75-4c13-8c9f-f8fe7a1854b9",
   "metadata": {},
   "outputs": [],
   "source": [
    "allText = getAllText(allfiles)"
   ]
  },
  {
   "cell_type": "code",
   "execution_count": 7,
   "id": "ea0e0aaf-8ba2-4b58-b833-d0f1aa4b28ba",
   "metadata": {},
   "outputs": [
    {
     "data": {
      "text/plain": [
       "5081360"
      ]
     },
     "execution_count": 7,
     "metadata": {},
     "output_type": "execute_result"
    }
   ],
   "source": [
    "len(allText)"
   ]
  },
  {
   "cell_type": "code",
   "execution_count": 8,
   "id": "227a46fa-6c7f-4140-8ad7-dee84b2955ee",
   "metadata": {},
   "outputs": [
    {
     "data": {
      "text/plain": [
       "'  hey you guys welco'"
      ]
     },
     "execution_count": 8,
     "metadata": {},
     "output_type": "execute_result"
    }
   ],
   "source": [
    "allText[:20]"
   ]
  },
  {
   "cell_type": "code",
   "execution_count": 9,
   "id": "7d8d220c-e2ac-46ee-91f5-88fb7af733df",
   "metadata": {},
   "outputs": [],
   "source": [
    "processedText = allText.split()"
   ]
  },
  {
   "cell_type": "code",
   "execution_count": 10,
   "id": "94fb6b6e-a6c0-4696-a032-87ce1adbfdde",
   "metadata": {},
   "outputs": [
    {
     "data": {
      "text/plain": [
       "['hey', 'you', 'guys', 'welcome', 'back', 'to', 'my', 'channel', 'is', 'your']"
      ]
     },
     "execution_count": 10,
     "metadata": {},
     "output_type": "execute_result"
    }
   ],
   "source": [
    "processedText[:10]"
   ]
  },
  {
   "cell_type": "code",
   "execution_count": 11,
   "id": "72510c5f-3ba3-4ce7-97ed-1b408e23cf94",
   "metadata": {},
   "outputs": [],
   "source": [
    "vocab = set(processedText)"
   ]
  },
  {
   "cell_type": "code",
   "execution_count": 12,
   "id": "a9000188-5210-4427-a7dd-1ae383a62846",
   "metadata": {},
   "outputs": [
    {
     "data": {
      "text/plain": [
       "24774"
      ]
     },
     "execution_count": 12,
     "metadata": {},
     "output_type": "execute_result"
    }
   ],
   "source": [
    "len(vocab)"
   ]
  },
  {
   "cell_type": "code",
   "execution_count": 13,
   "id": "319c548e-6acf-46fa-aef3-467c43277d43",
   "metadata": {},
   "outputs": [],
   "source": [
    "vocabLst = list(vocab)"
   ]
  },
  {
   "cell_type": "code",
   "execution_count": 14,
   "id": "f7fe00c9-aa0d-41c7-91c0-393c57300f39",
   "metadata": {},
   "outputs": [
    {
     "data": {
      "text/plain": [
       "24774"
      ]
     },
     "execution_count": 14,
     "metadata": {},
     "output_type": "execute_result"
    }
   ],
   "source": [
    "len(vocabLst)"
   ]
  },
  {
   "cell_type": "code",
   "execution_count": 15,
   "id": "4e4be558-7c9d-41c7-9275-5f058315519b",
   "metadata": {},
   "outputs": [],
   "source": [
    "vocabDict = dict()"
   ]
  },
  {
   "cell_type": "code",
   "execution_count": 16,
   "id": "265eed21-94d3-4d28-bd54-8d55e38c56dc",
   "metadata": {},
   "outputs": [],
   "source": [
    "for i,t in enumerate(vocabLst):\n",
    "    vocabDict[t] = i"
   ]
  },
  {
   "cell_type": "code",
   "execution_count": 17,
   "id": "efaeb554-0bde-44a7-9134-9df58554021e",
   "metadata": {},
   "outputs": [],
   "source": [
    "cooccurrence = [ [0] * len(vocab) for _ in range(len(vocab)) ]"
   ]
  },
  {
   "cell_type": "code",
   "execution_count": 18,
   "id": "708ded4d-269c-4eb2-b4f4-4af2538a003b",
   "metadata": {},
   "outputs": [],
   "source": [
    "from tqdm import tqdm"
   ]
  },
  {
   "cell_type": "code",
   "execution_count": 19,
   "id": "a76d6852-1949-4bc9-9e08-e650b537c5dd",
   "metadata": {},
   "outputs": [
    {
     "name": "stderr",
     "output_type": "stream",
     "text": [
      "100%|██████████| 1017881/1017881 [00:00<00:00, 1037120.49it/s]\n"
     ]
    }
   ],
   "source": [
    "for i in tqdm(range(1,len(processedText))):\n",
    "    a = processedText[i-1]\n",
    "    b = processedText[i]\n",
    "    cooccurrence[vocabDict[a]][vocabDict[b]] += 1\n",
    "    cooccurrence[vocabDict[b]][vocabDict[a]] += 1"
   ]
  },
  {
   "cell_type": "code",
   "execution_count": 20,
   "id": "71c1684b-1db9-47a7-9cd1-47e9b47f9d38",
   "metadata": {},
   "outputs": [],
   "source": [
    "from mittens import GloVe\n",
    "import numpy as np"
   ]
  },
  {
   "cell_type": "code",
   "execution_count": 21,
   "id": "05e26829-2f86-4b98-8999-050dadc510d6",
   "metadata": {},
   "outputs": [],
   "source": [
    "import csv\n",
    "import numpy as np"
   ]
  },
  {
   "cell_type": "code",
   "execution_count": 22,
   "id": "7d0776ca-fac9-4f18-a6e3-7bcfb68e3f1c",
   "metadata": {},
   "outputs": [],
   "source": [
    "from mittens import Mittens"
   ]
  },
  {
   "cell_type": "code",
   "execution_count": 23,
   "id": "4ebec3e6-0a77-498b-b77e-77b40dd12780",
   "metadata": {},
   "outputs": [],
   "source": [
    "def glove2dict(glove_filename):\n",
    "    with open(glove_filename) as f:\n",
    "        reader = csv.reader(f, delimiter=' ', quoting=csv.QUOTE_NONE)\n",
    "        embed = {line[0]: np.array(list(map(float, line[1:])))\n",
    "                for line in reader}\n",
    "    return embed\n"
   ]
  },
  {
   "cell_type": "code",
   "execution_count": 30,
   "id": "b601f919-2c4e-4303-9474-4481133f3d47",
   "metadata": {},
   "outputs": [],
   "source": [
    "mittens_model = Mittens(n=100, max_iter=1000) # n = vec dim"
   ]
  },
  {
   "cell_type": "code",
   "execution_count": 25,
   "id": "dcf348bd-4d52-43c9-8db6-b1c3f07984b0",
   "metadata": {},
   "outputs": [],
   "source": [
    "# original_embedding = glove2dict(\"./GloveFineTune/glove.840B.300d.txt\")"
   ]
  },
  {
   "cell_type": "code",
   "execution_count": 26,
   "id": "6dcfde08-9d5e-4e3e-af13-cf8b18708b89",
   "metadata": {},
   "outputs": [],
   "source": [
    "original_embedding = glove2dict(\"./GloveFineTune/glove.6B.100d.txt\")"
   ]
  },
  {
   "cell_type": "code",
   "execution_count": 27,
   "id": "6c1a5687-4655-442e-9881-4b1d1ff876f6",
   "metadata": {},
   "outputs": [
    {
     "data": {
      "text/plain": [
       "['4000',\n",
       " 'eirick',\n",
       " 'dean',\n",
       " 'nutritionist',\n",
       " 'shaken',\n",
       " 'infuse',\n",
       " 'waving',\n",
       " 'facetimed',\n",
       " 'impacted',\n",
       " '$600']"
      ]
     },
     "execution_count": 27,
     "metadata": {},
     "output_type": "execute_result"
    }
   ],
   "source": [
    "vocabLst[:10]"
   ]
  },
  {
   "cell_type": "markdown",
   "id": "64ec55e8-9ffb-4725-ab54-b93438e88036",
   "metadata": {},
   "source": [
    "Next step takes very long..."
   ]
  },
  {
   "cell_type": "code",
   "execution_count": null,
   "id": "983c8d21-da0f-4a2a-b6f1-a54d0137e35e",
   "metadata": {},
   "outputs": [
    {
     "name": "stderr",
     "output_type": "stream",
     "text": [
      "Iteration 20: error 11150.4366"
     ]
    }
   ],
   "source": [
    "new_embeddings = mittens_model.fit(\n",
    "    np.asarray(cooccurrence),\n",
    "    vocab=vocabLst,\n",
    "    initial_embedding_dict= original_embedding)\n",
    "\n"
   ]
  },
  {
   "cell_type": "code",
   "execution_count": null,
   "id": "e32d3c0e-d9d4-426c-bf2d-aee5dc196366",
   "metadata": {},
   "outputs": [],
   "source": [
    "new_embeddings[\"nutritionist\"]"
   ]
  },
  {
   "cell_type": "code",
   "execution_count": 29,
   "id": "d66534a6-d055-45ba-bd8c-b89f023b7cb8",
   "metadata": {},
   "outputs": [
    {
     "data": {
      "text/plain": [
       "True"
      ]
     },
     "execution_count": 29,
     "metadata": {},
     "output_type": "execute_result"
    }
   ],
   "source": [
    "\"nutritionist\" in original_embedding"
   ]
  },
  {
   "cell_type": "code",
   "execution_count": null,
   "id": "66d1f179-f8b8-40e0-8ecc-4e7ba1a97737",
   "metadata": {},
   "outputs": [],
   "source": [
    "original_embedding[\"nutritionist\"]"
   ]
  },
  {
   "cell_type": "code",
   "execution_count": null,
   "id": "b37ec716-7b29-4fa9-8071-b53aa801a2c8",
   "metadata": {},
   "outputs": [],
   "source": [
    "import pickle"
   ]
  },
  {
   "cell_type": "code",
   "execution_count": null,
   "id": "c5797290-bcec-4597-8c9d-89d6995ef1e2",
   "metadata": {},
   "outputs": [],
   "source": []
  },
  {
   "cell_type": "code",
   "execution_count": null,
   "id": "9d7f9d7b-e20f-48b1-be9f-ea22fc7aa496",
   "metadata": {},
   "outputs": [],
   "source": []
  }
 ],
 "metadata": {
  "kernelspec": {
   "display_name": "Python 3",
   "language": "python",
   "name": "python3"
  },
  "language_info": {
   "codemirror_mode": {
    "name": "ipython",
    "version": 3
   },
   "file_extension": ".py",
   "mimetype": "text/x-python",
   "name": "python",
   "nbconvert_exporter": "python",
   "pygments_lexer": "ipython3",
   "version": "3.6.9"
  }
 },
 "nbformat": 4,
 "nbformat_minor": 5
}
