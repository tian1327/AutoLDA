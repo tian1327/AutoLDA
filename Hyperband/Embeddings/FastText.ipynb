{
 "cells": [
  {
   "cell_type": "code",
   "execution_count": 1,
   "id": "f1a4b69c-1808-4590-a327-efe3fa71a2fe",
   "metadata": {},
   "outputs": [],
   "source": [
    "import os"
   ]
  },
  {
   "cell_type": "code",
   "execution_count": 2,
   "id": "11798cc4-90cd-487a-a337-ab2fc826c546",
   "metadata": {},
   "outputs": [
    {
     "name": "stderr",
     "output_type": "stream",
     "text": [
      "[nltk_data] Downloading package stopwords to /home/ubuntu/nltk_data...\n",
      "[nltk_data]   Package stopwords is already up-to-date!\n",
      "[nltk_data] Downloading package punkt to /home/ubuntu/nltk_data...\n",
      "[nltk_data]   Package punkt is already up-to-date!\n"
     ]
    },
    {
     "data": {
      "text/plain": [
       "True"
      ]
     },
     "execution_count": 2,
     "metadata": {},
     "output_type": "execute_result"
    }
   ],
   "source": [
    "import nltk\n",
    "nltk.download('stopwords')\n",
    "nltk.download('punkt')"
   ]
  },
  {
   "cell_type": "code",
   "execution_count": 3,
   "id": "e32df752-7f24-40ff-b5ed-b98200af4eef",
   "metadata": {},
   "outputs": [],
   "source": [
    "allfiles = []\n",
    "for root, dirs, files in os.walk(\"/home/ubuntu/AutoLDA/Code/Transcripts/\", topdown=False):\n",
    "    for name in files:\n",
    "        if name.endswith(\".txt\") and \"checkpoint\" not in name:\n",
    "            allfiles.append(os.path.join(root, name))"
   ]
  },
  {
   "cell_type": "code",
   "execution_count": 4,
   "id": "ca327383-9db9-41c5-bc04-935fdd638e0f",
   "metadata": {},
   "outputs": [
    {
     "data": {
      "text/plain": [
       "555"
      ]
     },
     "execution_count": 4,
     "metadata": {},
     "output_type": "execute_result"
    }
   ],
   "source": [
    "len(allfiles)"
   ]
  },
  {
   "cell_type": "code",
   "execution_count": 5,
   "id": "f1dff560-390b-4db7-8dd7-f703c48b0aa6",
   "metadata": {},
   "outputs": [],
   "source": [
    "def getAllText(allfiles):\n",
    "    res = []\n",
    "    for file in allfiles:\n",
    "        with open(file,\"r\") as f:\n",
    "            res.append(f.read())\n",
    "    return \" \".join(res)\n",
    "            "
   ]
  },
  {
   "cell_type": "code",
   "execution_count": 6,
   "id": "1991bfd8-be75-4c13-8c9f-f8fe7a1854b9",
   "metadata": {},
   "outputs": [],
   "source": [
    "allText = getAllText(allfiles)"
   ]
  },
  {
   "cell_type": "code",
   "execution_count": 7,
   "id": "ea0e0aaf-8ba2-4b58-b833-d0f1aa4b28ba",
   "metadata": {},
   "outputs": [
    {
     "data": {
      "text/plain": [
       "5081360"
      ]
     },
     "execution_count": 7,
     "metadata": {},
     "output_type": "execute_result"
    }
   ],
   "source": [
    "len(allText)"
   ]
  },
  {
   "cell_type": "code",
   "execution_count": 8,
   "id": "227a46fa-6c7f-4140-8ad7-dee84b2955ee",
   "metadata": {},
   "outputs": [
    {
     "data": {
      "text/plain": [
       "'  hey you guys welco'"
      ]
     },
     "execution_count": 8,
     "metadata": {},
     "output_type": "execute_result"
    }
   ],
   "source": [
    "allText[:20]"
   ]
  },
  {
   "cell_type": "code",
   "execution_count": 9,
   "id": "7d8d220c-e2ac-46ee-91f5-88fb7af733df",
   "metadata": {},
   "outputs": [],
   "source": [
    "processedText = allText.split()"
   ]
  },
  {
   "cell_type": "code",
   "execution_count": 10,
   "id": "94fb6b6e-a6c0-4696-a032-87ce1adbfdde",
   "metadata": {},
   "outputs": [
    {
     "data": {
      "text/plain": [
       "['hey', 'you', 'guys', 'welcome', 'back', 'to', 'my', 'channel', 'is', 'your']"
      ]
     },
     "execution_count": 10,
     "metadata": {},
     "output_type": "execute_result"
    }
   ],
   "source": [
    "processedText[:10]"
   ]
  },
  {
   "cell_type": "code",
   "execution_count": 11,
   "id": "05e26829-2f86-4b98-8999-050dadc510d6",
   "metadata": {},
   "outputs": [],
   "source": [
    "#  Ref: https://fasttext.cc/docs/en/english-vectors.html\n"
   ]
  },
  {
   "cell_type": "code",
   "execution_count": 12,
   "id": "1b6dbcc2-b690-4d01-a9a6-156c7e3a7ae0",
   "metadata": {},
   "outputs": [],
   "source": [
    "import io"
   ]
  },
  {
   "cell_type": "code",
   "execution_count": 13,
   "id": "13ba8ba8-0cb1-4eb2-808a-ab05d080d34a",
   "metadata": {},
   "outputs": [],
   "source": [
    "def load_vectors(fname):\n",
    "    fin = io.open(fname, 'r', encoding='utf-8', newline='\\n', errors='ignore')\n",
    "    n, d = map(int, fin.readline().split())\n",
    "    data = {}\n",
    "    for line in fin:\n",
    "        tokens = line.rstrip().split(' ')\n",
    "        data[tokens[0]] = map(float, tokens[1:])\n",
    "    return data"
   ]
  },
  {
   "cell_type": "markdown",
   "id": "7a39633d-2fb2-4463-bec0-dfe9e1a60792",
   "metadata": {},
   "source": []
  },
  {
   "cell_type": "code",
   "execution_count": 14,
   "id": "d2bbc44e-1fae-4ee5-9226-9e9f75f9d789",
   "metadata": {},
   "outputs": [],
   "source": [
    "data = load_vectors(\"./FastText/wiki-news-300d-1M.vec\")"
   ]
  },
  {
   "cell_type": "code",
   "execution_count": 21,
   "id": "98d631bf-2c50-4a41-b35e-8fc0fbb14492",
   "metadata": {},
   "outputs": [],
   "source": [
    "import numpy as np"
   ]
  },
  {
   "cell_type": "code",
   "execution_count": 23,
   "id": "f33f59fe-2d1e-4e31-ae15-0523708965a2",
   "metadata": {},
   "outputs": [],
   "source": [
    "emb = [ y for y in data[\"you\"]]"
   ]
  },
  {
   "cell_type": "code",
   "execution_count": 25,
   "id": "4045c8a3-cf2f-4c5c-adea-cda354f8b22d",
   "metadata": {},
   "outputs": [
    {
     "data": {
      "text/plain": [
       "[]"
      ]
     },
     "execution_count": 25,
     "metadata": {},
     "output_type": "execute_result"
    }
   ],
   "source": [
    "emb"
   ]
  },
  {
   "cell_type": "code",
   "execution_count": 29,
   "id": "4bf52093-f587-4463-b340-5ffa10518f2a",
   "metadata": {},
   "outputs": [],
   "source": [
    "a = list(data[\"me\"])"
   ]
  },
  {
   "cell_type": "code",
   "execution_count": 30,
   "id": "a0839415-2cfc-4084-8813-124049bf579a",
   "metadata": {},
   "outputs": [
    {
     "data": {
      "text/plain": [
       "[-0.142,\n",
       " 0.0856,\n",
       " -0.1361,\n",
       " -0.0105,\n",
       " 0.2567,\n",
       " -0.0583,\n",
       " -0.0038,\n",
       " 0.0329,\n",
       " 0.0865,\n",
       " 0.1315,\n",
       " 0.0175,\n",
       " -0.0078,\n",
       " 0.0788,\n",
       " 0.0608,\n",
       " 0.01,\n",
       " -0.0334,\n",
       " 0.0545,\n",
       " 0.1398,\n",
       " 0.0535,\n",
       " -0.002,\n",
       " -0.0158,\n",
       " -0.1242,\n",
       " -0.0385,\n",
       " -0.1535,\n",
       " -0.0538,\n",
       " -0.089,\n",
       " -0.0473,\n",
       " -0.0604,\n",
       " 0.1063,\n",
       " -0.2264,\n",
       " -0.0115,\n",
       " 0.0731,\n",
       " -0.1538,\n",
       " -0.0658,\n",
       " 0.0732,\n",
       " 0.0496,\n",
       " -0.0827,\n",
       " -0.1413,\n",
       " 0.0961,\n",
       " -0.0796,\n",
       " 0.0861,\n",
       " 0.0237,\n",
       " -0.0657,\n",
       " 0.0536,\n",
       " -0.0274,\n",
       " -0.0742,\n",
       " -0.1009,\n",
       " -0.0537,\n",
       " -0.0254,\n",
       " 0.0108,\n",
       " 0.0269,\n",
       " -0.0832,\n",
       " -0.6817,\n",
       " -0.0229,\n",
       " 0.0357,\n",
       " -0.0052,\n",
       " -0.0349,\n",
       " 0.0212,\n",
       " -0.0144,\n",
       " -0.0188,\n",
       " -0.0411,\n",
       " -0.0478,\n",
       " -0.2645,\n",
       " -0.0461,\n",
       " 0.0484,\n",
       " -0.0265,\n",
       " -0.056,\n",
       " 0.0215,\n",
       " -0.0134,\n",
       " -0.094,\n",
       " -0.0729,\n",
       " 0.0083,\n",
       " -0.098,\n",
       " 0.0844,\n",
       " 0.0083,\n",
       " 0.0189,\n",
       " 0.0429,\n",
       " -0.0339,\n",
       " 0.0559,\n",
       " 0.2882,\n",
       " 0.0041,\n",
       " -0.1066,\n",
       " -0.0192,\n",
       " -0.2558,\n",
       " 0.0847,\n",
       " -0.0152,\n",
       " 0.0005,\n",
       " -0.0223,\n",
       " -0.0318,\n",
       " -0.0834,\n",
       " 0.0467,\n",
       " -0.0515,\n",
       " -0.0194,\n",
       " 0.0497,\n",
       " -0.0028,\n",
       " -0.0136,\n",
       " -0.0118,\n",
       " 0.0612,\n",
       " -0.0172,\n",
       " -0.1608,\n",
       " -0.066,\n",
       " -0.0782,\n",
       " 0.0471,\n",
       " 0.0232,\n",
       " -0.0655,\n",
       " -0.0071,\n",
       " 0.0387,\n",
       " 0.0283,\n",
       " -0.1425,\n",
       " 0.1099,\n",
       " 0.0172,\n",
       " 0.1296,\n",
       " 0.0412,\n",
       " 0.0154,\n",
       " -0.1131,\n",
       " 0.1176,\n",
       " -0.0429,\n",
       " 0.1371,\n",
       " -0.1071,\n",
       " -0.4376,\n",
       " 0.0529,\n",
       " 0.1038,\n",
       " -0.0488,\n",
       " 0.0193,\n",
       " 0.0252,\n",
       " 0.1061,\n",
       " -0.0054,\n",
       " -0.0184,\n",
       " -0.0616,\n",
       " -0.0924,\n",
       " -0.0681,\n",
       " -0.0358,\n",
       " -0.0247,\n",
       " -0.0896,\n",
       " 0.0174,\n",
       " -0.1559,\n",
       " -0.0354,\n",
       " 0.0128,\n",
       " 0.145,\n",
       " -0.0362,\n",
       " -0.0502,\n",
       " 0.1246,\n",
       " 0.0036,\n",
       " 0.4593,\n",
       " 0.0354,\n",
       " -0.0661,\n",
       " 0.0877,\n",
       " 0.0725,\n",
       " -0.0785,\n",
       " -0.1213,\n",
       " -0.1257,\n",
       " 0.0627,\n",
       " 0.0217,\n",
       " -0.0328,\n",
       " 0.077,\n",
       " 0.0413,\n",
       " 0.0207,\n",
       " -0.0166,\n",
       " 0.0148,\n",
       " -0.0023,\n",
       " -0.0775,\n",
       " -0.0102,\n",
       " 0.0615,\n",
       " 0.001,\n",
       " -0.0856,\n",
       " 0.015,\n",
       " 0.1926,\n",
       " 0.1217,\n",
       " 0.055,\n",
       " 0.0051,\n",
       " 0.1403,\n",
       " 0.0149,\n",
       " -0.0276,\n",
       " -0.0758,\n",
       " 0.2731,\n",
       " 0.1318,\n",
       " 0.1341,\n",
       " 0.3114,\n",
       " 0.0734,\n",
       " 0.0524,\n",
       " -0.0883,\n",
       " 0.1315,\n",
       " 0.0328,\n",
       " 0.0315,\n",
       " 0.048,\n",
       " -0.1788,\n",
       " 0.0262,\n",
       " -0.0726,\n",
       " -0.2656,\n",
       " -0.0822,\n",
       " 0.0446,\n",
       " 0.1265,\n",
       " -0.0318,\n",
       " 0.0463,\n",
       " 0.0319,\n",
       " 0.0888,\n",
       " 0.0627,\n",
       " 0.0157,\n",
       " 0.1843,\n",
       " -0.0189,\n",
       " 0.1133,\n",
       " -0.2832,\n",
       " -0.0616,\n",
       " -0.0113,\n",
       " 0.2529,\n",
       " 0.0731,\n",
       " 0.0337,\n",
       " -0.0053,\n",
       " -0.0499,\n",
       " -0.028,\n",
       " 0.0739,\n",
       " -0.0405,\n",
       " -0.0672,\n",
       " -0.1394,\n",
       " -0.0555,\n",
       " -0.0139,\n",
       " 0.0073,\n",
       " -0.0892,\n",
       " -0.1035,\n",
       " 0.1155,\n",
       " 0.0279,\n",
       " -0.0669,\n",
       " -0.021,\n",
       " 0.0435,\n",
       " 0.0213,\n",
       " -0.0624,\n",
       " -0.0065,\n",
       " -0.0505,\n",
       " -0.0358,\n",
       " -0.1425,\n",
       " 0.1532,\n",
       " 0.0208,\n",
       " 0.2662,\n",
       " 0.1593,\n",
       " -0.014,\n",
       " -0.1854,\n",
       " 0.1105,\n",
       " 0.2004,\n",
       " -0.0698,\n",
       " 0.1717,\n",
       " -0.0279,\n",
       " -0.0334,\n",
       " 0.0751,\n",
       " -0.0586,\n",
       " -0.0249,\n",
       " 0.1393,\n",
       " 0.0206,\n",
       " 0.0414,\n",
       " 0.0067,\n",
       " 0.0034,\n",
       " 0.1059,\n",
       " -0.0795,\n",
       " 0.1309,\n",
       " 0.0634,\n",
       " -0.1466,\n",
       " -0.062,\n",
       " 0.0074,\n",
       " -0.0252,\n",
       " -0.0388,\n",
       " -0.0246,\n",
       " -0.1007,\n",
       " 0.0639,\n",
       " 0.0203,\n",
       " -0.0286,\n",
       " -0.427,\n",
       " 0.0219,\n",
       " -0.0799,\n",
       " 0.0476,\n",
       " 0.1268,\n",
       " 0.0127,\n",
       " 0.0023,\n",
       " -0.0537,\n",
       " 0.0696,\n",
       " -0.0282,\n",
       " -0.0057,\n",
       " 0.0319,\n",
       " -0.0359,\n",
       " -0.021,\n",
       " 0.0464,\n",
       " -0.0259,\n",
       " -0.0703,\n",
       " -0.0379,\n",
       " 0.0176,\n",
       " -0.0597,\n",
       " 0.105,\n",
       " -0.0653,\n",
       " -0.035,\n",
       " -0.0221,\n",
       " -0.1059,\n",
       " 0.0006,\n",
       " 0.0875,\n",
       " 0.0273,\n",
       " 0.051,\n",
       " -0.0071,\n",
       " 0.0327,\n",
       " -0.0632,\n",
       " -0.0918,\n",
       " 0.2417,\n",
       " -0.1183,\n",
       " -0.0506]"
      ]
     },
     "execution_count": 30,
     "metadata": {},
     "output_type": "execute_result"
    }
   ],
   "source": [
    "a"
   ]
  },
  {
   "cell_type": "code",
   "execution_count": 31,
   "id": "4493e68a-a862-48f1-beda-c222645cf66a",
   "metadata": {},
   "outputs": [
    {
     "data": {
      "text/plain": [
       "300"
      ]
     },
     "execution_count": 31,
     "metadata": {},
     "output_type": "execute_result"
    }
   ],
   "source": [
    "len(a)"
   ]
  }
 ],
 "metadata": {
  "kernelspec": {
   "display_name": "Python 3",
   "language": "python",
   "name": "python3"
  },
  "language_info": {
   "codemirror_mode": {
    "name": "ipython",
    "version": 3
   },
   "file_extension": ".py",
   "mimetype": "text/x-python",
   "name": "python",
   "nbconvert_exporter": "python",
   "pygments_lexer": "ipython3",
   "version": "3.6.9"
  }
 },
 "nbformat": 4,
 "nbformat_minor": 5
}
